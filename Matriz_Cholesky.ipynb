{
 "cells": [
  {
   "cell_type": "markdown",
   "metadata": {},
   "source": [
    "# Matriz de Cholesky"
   ]
  },
  {
   "cell_type": "markdown",
   "metadata": {},
   "source": [
    "La descomposición de Cholesky de una matriz cuadrada $\\Sigma$ corresponde a una matriz $C$ tal que:\n",
    "\n",
    "$$C\\cdot C^{T}=\\Sigma$$\n",
    "\n",
    "Esta matriz resulta útil para obtener $N$ números aleatorios normales con correlación entre sí a partir de $N$ números aleatorios normales independientes entre sí. De hecho (en 2 dimensiones), si\n",
    "\n",
    "$$e=\\left(\\begin{array}{c}e_{1} \\\\ e_{2}\\end{array} \\right)$$\n",
    "\n",
    "representa una pareja de variables normales estándar independientes entre sí, tenemos que la matriz de covarianza está dada por:\n",
    "\n",
    "$$E\\left(\\Sigma\\right)=E\\left[\\left(\\begin{array}{c}e_{1} \\\\ e_{2}\\end{array} \\right)\\cdot\\left(\\begin{array}{r}e_{1} && e_{2}\\end{array} \\right)\\right]=E\\left[\\left(\\begin{array}{cc}e_{1}^2 && e_{1}e_{2} \\\\ e_{1}e_{2} && e_{2}^2\\end{array} \\right)\\right]=\\left(\\begin{array}{cc}1 && 0 \\\\ 0 && 1\\end{array} \\right)$$\n",
    "\n",
    "De este modo, si $C$ es la descomposición de Cholesky de una matriz de covarianza $\\Sigma$ entonces:\n",
    "\n",
    "$$E\\left[\\left(C\\cdot e\\right)\\cdot\\left(C\\cdot e\\right)^T\\right]=E\\left[\\left(C\\cdot e\\right)\\cdot\\left(C\\cdot e\\right)^T\\right]=E\\left[\\left(C\\cdot e\\right)\\cdot\\left(e^T \\cdot C^T\\right)\\right]=C\\cdot E\\left(e\\cdot e^T \\right) \\cdot C^T=C\\cdot C^T=\\Sigma$$,\n",
    "\n",
    "y por lo tanto, para obtener $N$ números aleatorios normales con una dada correlación entre sí, basta con construir $C\\cdot e$ donde $e=\\left(e_{1} \\cdots e_{N}\\right)^T$."
   ]
  },
  {
   "cell_type": "markdown",
   "metadata": {},
   "source": [
    "Para obtener la matriz de Cholesky de una matriz de covarianza $\\Sigma$ dada podemos utilizar la librería **linalg** de **numpy**. Veamos un ejemplo:"
   ]
  },
  {
   "cell_type": "code",
   "execution_count": 14,
   "metadata": {},
   "outputs": [
    {
     "name": "stdout",
     "output_type": "stream",
     "text": [
      "sigma = \n",
      "[[ 1.   0.5]\n",
      " [ 0.5  1. ]]\n",
      "C = \n",
      "[[ 1.         0.       ]\n",
      " [ 0.5        0.8660254]]\n"
     ]
    }
   ],
   "source": [
    "# Se importa numpy\n",
    "import numpy as np\n",
    "\n",
    "# Se define la matriz sigma con varianza 1 y correlación igual a .5\n",
    "sigma = np.array([[1, .5], [.5, 1]])\n",
    "print(\"sigma = \")\n",
    "print(sigma)\n",
    "\n",
    "# Se calcula la matriz de Cholesky\n",
    "C = np.linalg.cholesky(sigma)\n",
    "\n",
    "# Se muestra el resultado\n",
    "print(\"C = \")\n",
    "print(C)"
   ]
  },
  {
   "cell_type": "markdown",
   "metadata": {},
   "source": [
    "Podemos verificar la propiedad de $C$, $C\\cdot C^{T}=\\Sigma$."
   ]
  },
  {
   "cell_type": "code",
   "execution_count": 13,
   "metadata": {},
   "outputs": [
    {
     "name": "stdout",
     "output_type": "stream",
     "text": [
      "check = \n",
      "[[ 1.   0.5]\n",
      " [ 0.5  1. ]]\n"
     ]
    }
   ],
   "source": [
    "# Se calcula C x C^T\n",
    "check = np.dot(C,C.transpose())\n",
    "\n",
    "# Se muestra el resultado que resulta ser igual a sigma\n",
    "print(\"check = \")\n",
    "print(check)"
   ]
  }
 ],
 "metadata": {
  "kernelspec": {
   "display_name": "Python 3",
   "language": "python",
   "name": "python3"
  },
  "language_info": {
   "codemirror_mode": {
    "name": "ipython",
    "version": 2
   },
   "file_extension": ".py",
   "mimetype": "text/x-python",
   "name": "python",
   "nbconvert_exporter": "python",
   "pygments_lexer": "ipython2",
   "version": "2.7.14"
  }
 },
 "nbformat": 4,
 "nbformat_minor": 2
}

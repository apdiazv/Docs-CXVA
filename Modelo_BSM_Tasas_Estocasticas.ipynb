{
 "cells": [
  {
   "cell_type": "markdown",
   "metadata": {},
   "source": [
    "# Modelo de Black-Scholes-Merton con Tasas Estocásticas"
   ]
  },
  {
   "cell_type": "markdown",
   "metadata": {},
   "source": [
    "El modelo de Black-Scholes-Merton está dado, en la medida ajustada por riesgo, por la siguiente ecuación diferencial estocástica:\n",
    "\n",
    "$$dS_{t}=\\left(r^{d}-r^{f}\\right) S_{t}dt + \\sigma S_{t} dW_{t}$$\n",
    "\n",
    "donde $r^d$ es la tasa doméstica (constante), $r^f$ es la tasa foránea (constante) y $\\sigma$ es la volatilidad de retornos logarítmicos.\n",
    "\n",
    "Vamos a modificar este modelo y permitir que ambas tasas sigan un proceso de Hull-White. Más precisamente:\n",
    "\n",
    "$$dS_{t}=\\left(r_{t}^{d}-r_{t}^{f}\\right) S_{t}dt + \\sigma^W S_{t} dW_t$$\n",
    "\n",
    "$$dr_{t}^{d}=\\left(\\theta_{t}^{d}-\\gamma^d r_{t}^d\\right)dt+\\sigma^d dX_{t}$$\n",
    "\n",
    "$$dr_{t}^{f}=\\left(\\theta_{t}^{f}-\\gamma^f r_{t}^f-\\rho_{WY}\\sigma^W\\sigma^f\\right)dt+\\sigma^f dY_{t}$$\n",
    "\n",
    "$$dW_tdX_{t}=\\rho_{WX}dt,\\space dW_tdY_{t}=\\rho_{WY}dt,\\space dX_tdY_{t}=\\rho_{XY}dt$$\n",
    "\n",
    "Las ecuaciones están escritas en la medida ajustada por riesgo de la divisa doméstica."
   ]
  },
  {
   "cell_type": "markdown",
   "metadata": {},
   "source": [
    "## Simulación del Modelo"
   ]
  },
  {
   "cell_type": "markdown",
   "metadata": {},
   "source": [
    "Para simular este modelo, para cada paso de simulación, es necesario contar con tres números aleatorios $N(0,1)$ con correlación entre sí. Para obtenerlos, recurriremos a la librería **random** de **numpy** y a la matriz de Cholesky.\n",
    "\n",
    "Dados $numfactors=3$, $numsim=100$ y $numsteps=264$ obtengamos primeramente los números $N(0,1)$ sin correlación."
   ]
  },
  {
   "cell_type": "code",
   "execution_count": 1,
   "metadata": {},
   "outputs": [
    {
     "data": {
      "text/plain": [
       "(300, 264)"
      ]
     },
     "execution_count": 1,
     "metadata": {},
     "output_type": "execute_result"
    }
   ],
   "source": [
    "# Se importa numpy\n",
    "import numpy as np\n",
    "\n",
    "# Se definen las dimensiones de la simulación\n",
    "numfactors=3\n",
    "numsim=100\n",
    "numsteps=264\n",
    "\n",
    "# Se obtienen los números aleatorios \n",
    "sim_sin_corr = np.random.randn(numsim * numfactors, numsteps)\n",
    "sim_sin_corr.shape"
   ]
  },
  {
   "cell_type": "markdown",
   "metadata": {},
   "source": [
    "Se define ahora la matriz que contendrá los valores de los números aleatorios correlacionados."
   ]
  },
  {
   "cell_type": "code",
   "execution_count": 2,
   "metadata": {},
   "outputs": [
    {
     "data": {
      "text/plain": [
       "(300, 264)"
      ]
     },
     "execution_count": 2,
     "metadata": {},
     "output_type": "execute_result"
    }
   ],
   "source": [
    "# Se define la matriz\n",
    "sim_con_corr = np.zeros(numsim * numfactors * numsteps).reshape(numsim * numfactors, numsteps)\n",
    "\n",
    "# se confirma que haya quedado con la forma correcta\n",
    "sim_con_corr.shape"
   ]
  },
  {
   "cell_type": "markdown",
   "metadata": {},
   "source": [
    "Se construyen ahora los números correlacionados. Primero se define la matriz de correlación $\\Sigma$, se utilizará una correlación constante $\\rho=\\frac{1}{2}$. Supondremos, además, que el primer factor es el tipo de cambio, el segundo factor es la tasa doméstica y el tercer factor es la tasa foránea."
   ]
  },
  {
   "cell_type": "code",
   "execution_count": 3,
   "metadata": {},
   "outputs": [
    {
     "data": {
      "text/plain": [
       "array([[ 1. ,  0.5,  0.5],\n",
       "       [ 0.5,  1. ,  0.5],\n",
       "       [ 0.5,  0.5,  1. ]])"
      ]
     },
     "execution_count": 3,
     "metadata": {},
     "output_type": "execute_result"
    }
   ],
   "source": [
    "sigma = np.array([[1, .5, .5], [.5, 1, .5], [.5, .5, 1]])\n",
    "sigma"
   ]
  },
  {
   "cell_type": "markdown",
   "metadata": {},
   "source": [
    "Se calcula ahora la matriz de Cholesky $C$ de $\\Sigma$."
   ]
  },
  {
   "cell_type": "code",
   "execution_count": 4,
   "metadata": {},
   "outputs": [
    {
     "data": {
      "text/plain": [
       "array([[ 1.        ,  0.        ,  0.        ],\n",
       "       [ 0.5       ,  0.8660254 ,  0.        ],\n",
       "       [ 0.5       ,  0.28867513,  0.81649658]])"
      ]
     },
     "execution_count": 4,
     "metadata": {},
     "output_type": "execute_result"
    }
   ],
   "source": [
    "C = np.linalg.cholesky(sigma)\n",
    "C"
   ]
  },
  {
   "cell_type": "markdown",
   "metadata": {},
   "source": [
    "Ahora sí se calculan los números correlacionados."
   ]
  },
  {
   "cell_type": "code",
   "execution_count": 5,
   "metadata": {},
   "outputs": [
    {
     "data": {
      "text/plain": [
       "array([[-0.2766336 ,  0.77295015, -2.1840979 , ..., -0.37773144,\n",
       "         0.70888607,  2.06980056],\n",
       "       [-0.07887615, -0.50805891, -2.53130387, ..., -0.74809585,\n",
       "         2.06096786,  0.70504756],\n",
       "       [-0.35746759,  0.23652693, -1.41903322, ...,  0.06191112,\n",
       "         0.36213698,  0.33005657],\n",
       "       ..., \n",
       "       [-0.96926502, -0.13086369,  0.31105251, ...,  0.50293106,\n",
       "        -1.04778615, -0.89385653],\n",
       "       [ 0.77436304, -0.63968392, -0.49786642, ...,  1.28685845,\n",
       "        -0.89116247, -0.83376418],\n",
       "       [-0.28034409, -0.37446516, -1.19973155, ..., -0.0587555 ,\n",
       "        -0.56652771,  0.60649217]])"
      ]
     },
     "execution_count": 5,
     "metadata": {},
     "output_type": "execute_result"
    }
   ],
   "source": [
    "for i in range(0, numsim):\n",
    "    for j in range(0, numsteps):\n",
    "        e = np.array([sim_sin_corr[3 * i, j], sim_sin_corr[3 * i + 1, j], sim_sin_corr[3 * i + 2, j]]).reshape(3, 1)\n",
    "        e = np.dot(C, e)\n",
    "        sim_con_corr[3 * i, j] = e[0, 0]\n",
    "        sim_con_corr[3 * i + 1, j] = e[1, 0]\n",
    "        sim_con_corr[3 * i + 2, j] = e[2, 0]\n",
    "sim_con_corr"
   ]
  },
  {
   "cell_type": "markdown",
   "metadata": {},
   "source": [
    "Realicemos una validación calculando la correlación entre los primeros tres caminos."
   ]
  },
  {
   "cell_type": "code",
   "execution_count": 6,
   "metadata": {},
   "outputs": [
    {
     "name": "stdout",
     "output_type": "stream",
     "text": [
      "(3, 264)\n"
     ]
    },
    {
     "data": {
      "text/plain": [
       "array([[ 1.        ,  0.40650893,  0.42852849],\n",
       "       [ 0.40650893,  1.        ,  0.40858391],\n",
       "       [ 0.42852849,  0.40858391,  1.        ]])"
      ]
     },
     "execution_count": 6,
     "metadata": {},
     "output_type": "execute_result"
    }
   ],
   "source": [
    "# Extraemos los primeros tres caminos\n",
    "M = sim_con_corr[:3,:]\n",
    "\n",
    "# Verificamos\n",
    "print(M.shape)\n",
    "\n",
    "# Se calcula la matriz de correlación\n",
    "np.corrcoef(M)"
   ]
  },
  {
   "cell_type": "markdown",
   "metadata": {},
   "source": [
    "Habiendo verificado, requerimos de data inicial para poder realizar la simulación. Vamos a suponer una simulación USDCLP con $S_{0}=630.00$ y $\\sigma_{FX}=12%$. Para las tasas doméstica y foránea supondremos $\\sigma=.01$ y $\\gamma=1$. Adicionalmente, importaremos valores de curvas para poder calibrar las funciones $\\theta$ de ambas tasas."
   ]
  },
  {
   "cell_type": "code",
   "execution_count": 7,
   "metadata": {},
   "outputs": [
    {
     "data": {
      "text/html": [
       "<div>\n",
       "<style>\n",
       "    .dataframe thead tr:only-child th {\n",
       "        text-align: right;\n",
       "    }\n",
       "\n",
       "    .dataframe thead th {\n",
       "        text-align: left;\n",
       "    }\n",
       "\n",
       "    .dataframe tbody tr th {\n",
       "        vertical-align: top;\n",
       "    }\n",
       "</style>\n",
       "<table border=\"1\" class=\"dataframe\">\n",
       "  <thead>\n",
       "    <tr style=\"text-align: right;\">\n",
       "      <th></th>\n",
       "      <th>Plazo</th>\n",
       "      <th>Df</th>\n",
       "      <th>Tasa</th>\n",
       "    </tr>\n",
       "  </thead>\n",
       "  <tbody>\n",
       "    <tr>\n",
       "      <th>0</th>\n",
       "      <td>0.002740</td>\n",
       "      <td>0.999917</td>\n",
       "      <td>0.030415</td>\n",
       "    </tr>\n",
       "    <tr>\n",
       "      <th>1</th>\n",
       "      <td>0.005479</td>\n",
       "      <td>0.999833</td>\n",
       "      <td>0.030415</td>\n",
       "    </tr>\n",
       "    <tr>\n",
       "      <th>2</th>\n",
       "      <td>0.254795</td>\n",
       "      <td>0.992906</td>\n",
       "      <td>0.027941</td>\n",
       "    </tr>\n",
       "    <tr>\n",
       "      <th>3</th>\n",
       "      <td>0.506849</td>\n",
       "      <td>0.986198</td>\n",
       "      <td>0.027422</td>\n",
       "    </tr>\n",
       "    <tr>\n",
       "      <th>4</th>\n",
       "      <td>0.758904</td>\n",
       "      <td>0.979555</td>\n",
       "      <td>0.027219</td>\n",
       "    </tr>\n",
       "    <tr>\n",
       "      <th>5</th>\n",
       "      <td>1.005479</td>\n",
       "      <td>0.973384</td>\n",
       "      <td>0.026829</td>\n",
       "    </tr>\n",
       "    <tr>\n",
       "      <th>6</th>\n",
       "      <td>1.506849</td>\n",
       "      <td>0.959941</td>\n",
       "      <td>0.027131</td>\n",
       "    </tr>\n",
       "    <tr>\n",
       "      <th>7</th>\n",
       "      <td>2.005479</td>\n",
       "      <td>0.944978</td>\n",
       "      <td>0.028220</td>\n",
       "    </tr>\n",
       "    <tr>\n",
       "      <th>8</th>\n",
       "      <td>3.010959</td>\n",
       "      <td>0.912039</td>\n",
       "      <td>0.030579</td>\n",
       "    </tr>\n",
       "    <tr>\n",
       "      <th>9</th>\n",
       "      <td>4.008219</td>\n",
       "      <td>0.877304</td>\n",
       "      <td>0.032658</td>\n",
       "    </tr>\n",
       "    <tr>\n",
       "      <th>10</th>\n",
       "      <td>5.008219</td>\n",
       "      <td>0.841534</td>\n",
       "      <td>0.034449</td>\n",
       "    </tr>\n",
       "    <tr>\n",
       "      <th>11</th>\n",
       "      <td>6.008219</td>\n",
       "      <td>0.805238</td>\n",
       "      <td>0.036054</td>\n",
       "    </tr>\n",
       "    <tr>\n",
       "      <th>12</th>\n",
       "      <td>7.010959</td>\n",
       "      <td>0.767170</td>\n",
       "      <td>0.037805</td>\n",
       "    </tr>\n",
       "    <tr>\n",
       "      <th>13</th>\n",
       "      <td>8.016438</td>\n",
       "      <td>0.730756</td>\n",
       "      <td>0.039129</td>\n",
       "    </tr>\n",
       "    <tr>\n",
       "      <th>14</th>\n",
       "      <td>9.013699</td>\n",
       "      <td>0.697992</td>\n",
       "      <td>0.039889</td>\n",
       "    </tr>\n",
       "    <tr>\n",
       "      <th>15</th>\n",
       "      <td>10.010959</td>\n",
       "      <td>0.666353</td>\n",
       "      <td>0.040549</td>\n",
       "    </tr>\n",
       "    <tr>\n",
       "      <th>16</th>\n",
       "      <td>12.013699</td>\n",
       "      <td>0.607966</td>\n",
       "      <td>0.041422</td>\n",
       "    </tr>\n",
       "    <tr>\n",
       "      <th>17</th>\n",
       "      <td>15.016438</td>\n",
       "      <td>0.530815</td>\n",
       "      <td>0.042177</td>\n",
       "    </tr>\n",
       "    <tr>\n",
       "      <th>18</th>\n",
       "      <td>20.021918</td>\n",
       "      <td>0.420674</td>\n",
       "      <td>0.043247</td>\n",
       "    </tr>\n",
       "  </tbody>\n",
       "</table>\n",
       "</div>"
      ],
      "text/plain": [
       "        Plazo        Df      Tasa\n",
       "0    0.002740  0.999917  0.030415\n",
       "1    0.005479  0.999833  0.030415\n",
       "2    0.254795  0.992906  0.027941\n",
       "3    0.506849  0.986198  0.027422\n",
       "4    0.758904  0.979555  0.027219\n",
       "5    1.005479  0.973384  0.026829\n",
       "6    1.506849  0.959941  0.027131\n",
       "7    2.005479  0.944978  0.028220\n",
       "8    3.010959  0.912039  0.030579\n",
       "9    4.008219  0.877304  0.032658\n",
       "10   5.008219  0.841534  0.034449\n",
       "11   6.008219  0.805238  0.036054\n",
       "12   7.010959  0.767170  0.037805\n",
       "13   8.016438  0.730756  0.039129\n",
       "14   9.013699  0.697992  0.039889\n",
       "15  10.010959  0.666353  0.040549\n",
       "16  12.013699  0.607966  0.041422\n",
       "17  15.016438  0.530815  0.042177\n",
       "18  20.021918  0.420674  0.043247"
      ]
     },
     "execution_count": 7,
     "metadata": {},
     "output_type": "execute_result"
    }
   ],
   "source": [
    "s0 = 630\n",
    "sigma_fx = .12\n",
    "sigma = .01\n",
    "gamma = 1\n",
    "\n",
    "import pandas as pd\n",
    "curva_clp = pd.read_csv(\"./curva_2.csv\")\n",
    "curva_usd = pd.read_csv(\"./curva_3.csv\")\n",
    "\n",
    "# Las curvas vienen representadas como factores de descuento, ahora calculamos las tasas correspondientes.\n",
    "curva_clp['Tasa'] = -np.log(curva_clp['Df'])/curva_clp['Plazo']\n",
    "curva_usd['Tasa'] = -np.log(curva_usd['Df'])/curva_usd['Plazo']\n",
    "\n",
    "# Se muestra la curva_clp\n",
    "curva_clp"
   ]
  },
  {
   "cell_type": "code",
   "execution_count": 8,
   "metadata": {},
   "outputs": [
    {
     "data": {
      "text/html": [
       "<div>\n",
       "<style>\n",
       "    .dataframe thead tr:only-child th {\n",
       "        text-align: right;\n",
       "    }\n",
       "\n",
       "    .dataframe thead th {\n",
       "        text-align: left;\n",
       "    }\n",
       "\n",
       "    .dataframe tbody tr th {\n",
       "        vertical-align: top;\n",
       "    }\n",
       "</style>\n",
       "<table border=\"1\" class=\"dataframe\">\n",
       "  <thead>\n",
       "    <tr style=\"text-align: right;\">\n",
       "      <th></th>\n",
       "      <th>Plazo</th>\n",
       "      <th>Df</th>\n",
       "      <th>Tasa</th>\n",
       "    </tr>\n",
       "  </thead>\n",
       "  <tbody>\n",
       "    <tr>\n",
       "      <th>0</th>\n",
       "      <td>0.002740</td>\n",
       "      <td>0.999918</td>\n",
       "      <td>0.029916</td>\n",
       "    </tr>\n",
       "    <tr>\n",
       "      <th>1</th>\n",
       "      <td>0.005479</td>\n",
       "      <td>0.999836</td>\n",
       "      <td>0.029915</td>\n",
       "    </tr>\n",
       "    <tr>\n",
       "      <th>2</th>\n",
       "      <td>0.254795</td>\n",
       "      <td>0.993033</td>\n",
       "      <td>0.027441</td>\n",
       "    </tr>\n",
       "    <tr>\n",
       "      <th>3</th>\n",
       "      <td>0.506849</td>\n",
       "      <td>0.986447</td>\n",
       "      <td>0.026922</td>\n",
       "    </tr>\n",
       "    <tr>\n",
       "      <th>4</th>\n",
       "      <td>0.758904</td>\n",
       "      <td>0.979927</td>\n",
       "      <td>0.026719</td>\n",
       "    </tr>\n",
       "    <tr>\n",
       "      <th>5</th>\n",
       "      <td>1.005479</td>\n",
       "      <td>0.973874</td>\n",
       "      <td>0.026329</td>\n",
       "    </tr>\n",
       "    <tr>\n",
       "      <th>6</th>\n",
       "      <td>1.506849</td>\n",
       "      <td>0.960665</td>\n",
       "      <td>0.026631</td>\n",
       "    </tr>\n",
       "    <tr>\n",
       "      <th>7</th>\n",
       "      <td>2.005479</td>\n",
       "      <td>0.945926</td>\n",
       "      <td>0.027720</td>\n",
       "    </tr>\n",
       "    <tr>\n",
       "      <th>8</th>\n",
       "      <td>3.010959</td>\n",
       "      <td>0.913413</td>\n",
       "      <td>0.030079</td>\n",
       "    </tr>\n",
       "    <tr>\n",
       "      <th>9</th>\n",
       "      <td>4.008219</td>\n",
       "      <td>0.879064</td>\n",
       "      <td>0.032158</td>\n",
       "    </tr>\n",
       "    <tr>\n",
       "      <th>10</th>\n",
       "      <td>5.008219</td>\n",
       "      <td>0.843644</td>\n",
       "      <td>0.033949</td>\n",
       "    </tr>\n",
       "    <tr>\n",
       "      <th>11</th>\n",
       "      <td>6.008219</td>\n",
       "      <td>0.807661</td>\n",
       "      <td>0.035554</td>\n",
       "    </tr>\n",
       "    <tr>\n",
       "      <th>12</th>\n",
       "      <td>7.010959</td>\n",
       "      <td>0.769864</td>\n",
       "      <td>0.037305</td>\n",
       "    </tr>\n",
       "    <tr>\n",
       "      <th>13</th>\n",
       "      <td>8.016438</td>\n",
       "      <td>0.733691</td>\n",
       "      <td>0.038629</td>\n",
       "    </tr>\n",
       "    <tr>\n",
       "      <th>14</th>\n",
       "      <td>9.013699</td>\n",
       "      <td>0.701145</td>\n",
       "      <td>0.039389</td>\n",
       "    </tr>\n",
       "    <tr>\n",
       "      <th>15</th>\n",
       "      <td>10.010959</td>\n",
       "      <td>0.669697</td>\n",
       "      <td>0.040049</td>\n",
       "    </tr>\n",
       "    <tr>\n",
       "      <th>16</th>\n",
       "      <td>12.013699</td>\n",
       "      <td>0.611629</td>\n",
       "      <td>0.040922</td>\n",
       "    </tr>\n",
       "    <tr>\n",
       "      <th>17</th>\n",
       "      <td>15.016438</td>\n",
       "      <td>0.534815</td>\n",
       "      <td>0.041677</td>\n",
       "    </tr>\n",
       "    <tr>\n",
       "      <th>18</th>\n",
       "      <td>20.021918</td>\n",
       "      <td>0.424906</td>\n",
       "      <td>0.042747</td>\n",
       "    </tr>\n",
       "  </tbody>\n",
       "</table>\n",
       "</div>"
      ],
      "text/plain": [
       "        Plazo        Df      Tasa\n",
       "0    0.002740  0.999918  0.029916\n",
       "1    0.005479  0.999836  0.029915\n",
       "2    0.254795  0.993033  0.027441\n",
       "3    0.506849  0.986447  0.026922\n",
       "4    0.758904  0.979927  0.026719\n",
       "5    1.005479  0.973874  0.026329\n",
       "6    1.506849  0.960665  0.026631\n",
       "7    2.005479  0.945926  0.027720\n",
       "8    3.010959  0.913413  0.030079\n",
       "9    4.008219  0.879064  0.032158\n",
       "10   5.008219  0.843644  0.033949\n",
       "11   6.008219  0.807661  0.035554\n",
       "12   7.010959  0.769864  0.037305\n",
       "13   8.016438  0.733691  0.038629\n",
       "14   9.013699  0.701145  0.039389\n",
       "15  10.010959  0.669697  0.040049\n",
       "16  12.013699  0.611629  0.040922\n",
       "17  15.016438  0.534815  0.041677\n",
       "18  20.021918  0.424906  0.042747"
      ]
     },
     "execution_count": 8,
     "metadata": {},
     "output_type": "execute_result"
    }
   ],
   "source": [
    "# Y luego la curva_usd\n",
    "curva_usd"
   ]
  },
  {
   "cell_type": "markdown",
   "metadata": {},
   "source": [
    "Vamos ahora a definir las funciones que interpolarán la curva y permitirán calcular las funciones $\\theta$."
   ]
  },
  {
   "cell_type": "code",
   "execution_count": 27,
   "metadata": {},
   "outputs": [
    {
     "name": "stdout",
     "output_type": "stream",
     "text": [
      "(0.030415084970720565, 0.029915581892038173)\n"
     ]
    }
   ],
   "source": [
    "# Se definen los arrays con los plazos\n",
    "plazos_clp = np.array(curva_clp['Plazo'].tolist())\n",
    "plazos_usd = np.array(curva_usd['Plazo'].tolist())\n",
    "\n",
    "\n",
    "#  Se definen los arrays con las tasas\n",
    "tasas_clp = np.array(curva_clp['Tasa'].tolist())\n",
    "tasas_usd = np.array(curva_usd['Tasa'].tolist())\n",
    "\n",
    "import hull_white as hw\n",
    "zrate_clp = hw.get_curve(plazos_clp, tasas_clp)\n",
    "zrate_usd = hw.get_curve(plazos_usd, tasas_usd)\n",
    "print(zrate_clp(0)[0], zrate_usd(0)[0])\n",
    "r_clp0 = zrate_clp(0)[0]\n",
    "r_usd0 = zrate_usd(0)[0]"
   ]
  },
  {
   "cell_type": "code",
   "execution_count": 10,
   "metadata": {},
   "outputs": [
    {
     "data": {
      "text/plain": [
       "(300, 264)"
      ]
     },
     "execution_count": 10,
     "metadata": {},
     "output_type": "execute_result"
    }
   ],
   "source": [
    "# Contenedor para la simulación\n",
    "# Se define la matriz\n",
    "sim = np.zeros(numsim * numfactors * numsteps).reshape(numsim * numfactors, numsteps)\n",
    "\n",
    "# se confirma que haya quedado con la forma correcta\n",
    "sim.shape"
   ]
  },
  {
   "cell_type": "code",
   "execution_count": 24,
   "metadata": {},
   "outputs": [],
   "source": [
    "# Simular\n",
    "import math\n",
    "import clamped_spline as csp\n",
    "\n",
    "# Se calculan las constantes necesarias\n",
    "dt = 1 / 264.0\n",
    "\n",
    "# Para el FX\n",
    "sigma_fx_raizdt = sigma_fx * math.sqrt(dt)\n",
    "\n",
    "# Para las tasas\n",
    "gamma_dt = gamma * dt\n",
    "sigma_raizdt = sigma * math.sqrt(dt)\n",
    "\n",
    "for i in range(0, numsim):\n",
    "    sim[3 * i, 0] = s0\n",
    "    sim[3 * i + 1, 0] = r_clp0\n",
    "    sim[3 * i + 2, 0] = r_usd0\n",
    "    for j in range(1, numsteps):\n",
    "        e = np.array([sim_con_corr[3 * i, j], sim_con_corr[3 * i + 1, j], sim_con_corr[3 * i + 2, j]]).reshape(3, 1)\n",
    "        \n",
    "        sim[3 * i, j] = sim[3 * i, j - 1] * (\n",
    "            1 + (sim[3 * i + 1, j - 1] - sim[3 * i + 2, j - 1]) * dt + sigma_fx_raizdt * e[0,0])\n",
    "        \n",
    "        sim[3 * i + 1, j] = sim[3 * i + 1, j - 1] + hw.theta(\n",
    "            zrate_clp, dt * (j - 1), sigma, gamma) * dt - gamma_dt * sim[3 * i + 1, j - 1] + sigma_raizdt * e[1,0]\n",
    "        \n",
    "        sim[3 * i + 2, j] = sim[3 * i + 2, j - 1] + hw.theta(\n",
    "            zrate_usd, dt * (j - 1), sigma, gamma) * dt - gamma_dt * sim[3 * i + 2, j - 1] + sigma_raizdt * e[2,0]  "
   ]
  },
  {
   "cell_type": "code",
   "execution_count": 26,
   "metadata": {},
   "outputs": [
    {
     "data": {
      "text/plain": [
       "array([ 0.02991558,  0.03006102,  0.02918698,  0.02872741,  0.02810003,\n",
       "        0.02839337,  0.0287048 ,  0.0291173 ,  0.02954706,  0.02960896,\n",
       "        0.02914464,  0.0286621 ,  0.02825323,  0.02787794,  0.02823207,\n",
       "        0.02825216,  0.0282498 ,  0.02760014,  0.02887537,  0.02910035,\n",
       "        0.02856651,  0.02960582,  0.03017749,  0.02931119,  0.02895045,\n",
       "        0.02853231,  0.02860208,  0.0285119 ,  0.02847022,  0.0285671 ,\n",
       "        0.02779884,  0.02846332,  0.0281553 ,  0.02804579,  0.0271862 ,\n",
       "        0.0281766 ,  0.0283177 ,  0.0279321 ,  0.02751958,  0.02733389,\n",
       "        0.02812629,  0.02830801,  0.02746054,  0.02669049,  0.02658326,\n",
       "        0.02725819,  0.02636848,  0.02675482,  0.02630565,  0.026822  ,\n",
       "        0.02629377,  0.02566057,  0.02541121,  0.0250606 ,  0.02463192,\n",
       "        0.02503504,  0.0256959 ,  0.02546963,  0.0251639 ,  0.02532227,\n",
       "        0.02570446,  0.02580154,  0.02541805,  0.02552047,  0.02547774,\n",
       "        0.02482832,  0.02571252,  0.02538829,  0.02563982,  0.026669  ,\n",
       "        0.02647093,  0.02594338,  0.02614579,  0.02625764,  0.02628547,\n",
       "        0.02624668,  0.02551766,  0.02516082,  0.02419534,  0.02400706,\n",
       "        0.02383683,  0.02424381,  0.02494277,  0.02510973,  0.02533477,\n",
       "        0.02667252,  0.02601181,  0.02569022,  0.0254033 ,  0.02480701,\n",
       "        0.02518074,  0.02588179,  0.02687065,  0.02763035,  0.02782602,\n",
       "        0.02747249,  0.0269884 ,  0.02604648,  0.02666373,  0.02646016,\n",
       "        0.02548494,  0.02657074,  0.02630192,  0.02725153,  0.0278496 ,\n",
       "        0.02797513,  0.02782962,  0.02752163,  0.02730878,  0.02665013,\n",
       "        0.02783415,  0.02821141,  0.02771624,  0.02661183,  0.02723309,\n",
       "        0.02616725,  0.0264033 ,  0.02592446,  0.0268098 ,  0.02680948,\n",
       "        0.0269987 ,  0.02704062,  0.02690199,  0.02718031,  0.02684498,\n",
       "        0.02636196,  0.02641067,  0.02641264,  0.02520037,  0.02520454,\n",
       "        0.02512384,  0.02560456,  0.02574875,  0.0256313 ,  0.02502017,\n",
       "        0.02490146,  0.02459813,  0.02435794,  0.02378183,  0.02367733,\n",
       "        0.02302258,  0.02273837,  0.02327317,  0.02305319,  0.02346409,\n",
       "        0.02374201,  0.02349344,  0.0230553 ,  0.02362936,  0.0240219 ,\n",
       "        0.02316642,  0.02289455,  0.02300054,  0.02299208,  0.02376915,\n",
       "        0.02383451,  0.02403006,  0.02409122,  0.02468594,  0.0247107 ,\n",
       "        0.02403662,  0.02328376,  0.02377934,  0.02332224,  0.02266871,\n",
       "        0.02312581,  0.02361331,  0.02374003,  0.02311812,  0.0230913 ,\n",
       "        0.02275085,  0.02363002,  0.02388177,  0.02418241,  0.02450734,\n",
       "        0.02486353,  0.02597512,  0.02685232,  0.02709895,  0.02731731,\n",
       "        0.02656458,  0.02641305,  0.02654148,  0.02705287,  0.02730291,\n",
       "        0.02764744,  0.02664608,  0.0274999 ,  0.02820134,  0.02826993,\n",
       "        0.02889826,  0.02911323,  0.02846176,  0.02793051,  0.02669921,\n",
       "        0.02670899,  0.02559596,  0.02466959,  0.02423375,  0.02442538,\n",
       "        0.0239185 ,  0.02375715,  0.02248298,  0.02391007,  0.0236133 ,\n",
       "        0.02511946,  0.02548315,  0.02429116,  0.02508434,  0.02563117,\n",
       "        0.02548332,  0.0254796 ,  0.02517793,  0.02526391,  0.02527275,\n",
       "        0.02501012,  0.02415123,  0.02406547,  0.02380653,  0.02323034,\n",
       "        0.02279195,  0.02183411,  0.02221237,  0.02205169,  0.02151354,\n",
       "        0.02105288,  0.02154556,  0.0206995 ,  0.0193973 ,  0.01817797,\n",
       "        0.01851909,  0.01824013,  0.01791963,  0.0175179 ,  0.0175946 ,\n",
       "        0.01720854,  0.01708129,  0.01622005,  0.01644078,  0.01643499,\n",
       "        0.01656464,  0.01770654,  0.01627513,  0.01550956,  0.01532642,\n",
       "        0.01496538,  0.01436293,  0.01333269,  0.01253049,  0.01211601,\n",
       "        0.01257298,  0.01330949,  0.01349081,  0.01374889,  0.01389714,\n",
       "        0.01403299,  0.01397002,  0.01288005,  0.01317292,  0.0135653 ,\n",
       "        0.01399189,  0.0140262 ,  0.01424464,  0.01444198])"
      ]
     },
     "execution_count": 26,
     "metadata": {},
     "output_type": "execute_result"
    }
   ],
   "source": [
    "sim[2,:]"
   ]
  }
 ],
 "metadata": {
  "kernelspec": {
   "display_name": "Python 3",
   "language": "python",
   "name": "python3"
  },
  "language_info": {
   "codemirror_mode": {
    "name": "ipython",
    "version": 2
   },
   "file_extension": ".py",
   "mimetype": "text/x-python",
   "name": "python",
   "nbconvert_exporter": "python",
   "pygments_lexer": "ipython2",
   "version": "2.7.14"
  }
 },
 "nbformat": 4,
 "nbformat_minor": 2
}
